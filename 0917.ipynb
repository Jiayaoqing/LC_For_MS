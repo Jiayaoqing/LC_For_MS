{
 "cells": [
  {
   "cell_type": "markdown",
   "metadata": {},
   "source": [
    "112. 路径总和\n",
    "给你二叉树的根节点 root 和一个表示目标和的整数 targetSum 。判断该树中是否存在 根节点到叶子节点 的路径，这条路径上所有节点值相加等于目标和 targetSum 。如果存在，返回 true ；否则，返回 false 。\n",
    "\n",
    "叶子节点 是指没有子节点的节点。\n",
    "\n",
    " \n",
    "\n",
    "示例 1：\n",
    "\n",
    "\n",
    "输入：root = [5,4,8,11,null,13,4,7,2,null,null,null,1], targetSum = 22\n",
    "输出：true\n",
    "解释：等于目标和的根节点到叶节点路径如上图所示。\n",
    "示例 2：\n",
    "\n",
    "\n",
    "输入：root = [1,2,3], targetSum = 5\n",
    "输出：false\n",
    "解释：树中存在两条根节点到叶子节点的路径：\n",
    "(1 --> 2): 和为 3\n",
    "(1 --> 3): 和为 4\n",
    "不存在 sum = 5 的根节点到叶子节点的路径。\n",
    "示例 3：\n",
    "\n",
    "输入：root = [], targetSum = 0\n",
    "输出：false\n",
    "解释：由于树是空的，所以不存在根节点到叶子节点的路径。\n",
    " \n",
    "\n",
    "提示：\n",
    "\n",
    "树中节点的数目在范围 [0, 5000] 内\n",
    "-1000 <= Node.val <= 1000\n",
    "-1000 <= targetSum <= 1000"
   ]
  },
  {
   "cell_type": "markdown",
   "metadata": {},
   "source": [
    "一、递归\n",
    "1、确定递归函数的参数和返回类型\n",
    "参数：需要二叉树的根节点，还需要一个计数器，这个计数器用来计算二叉树的一条边之和是否正好是目标和，计数器为int型。\n",
    "\n",
    "返回值：递归函数什么时候需要返回值？什么时候不需要返回值？这里总结如下三点：\n",
    "1)如果需要搜索整棵二叉树 且不用处理 递归返回值，递归函数就不要返回值。（如113.路径总和ii）\n",
    "2)如果需要搜索整棵二叉树 且需要处理 递归返回值，递归函数就需要返回值。 （如236. 二叉树的最近公共祖先）\n",
    "3)如果要搜索其中一条符合条件的路径，那么递归一定需要返回值，因为遇到符合条件的路径了就要及时返回。（本题的情况）\n",
    "\n",
    "2、确定终止条件\n",
    "首先计数器如何统计这一条路径的和呢？\n",
    "不要去累加然后判断是否等于目标和，那么代码比较麻烦，可以用递减，让计数器count初始为目标和，然后每次减去遍历路径节点上的数值。\n",
    "如果最后count == 0，同时到了叶子节点的话，说明找到了目标和。\n",
    "如果遍历到了叶子节点，count不为0，就是没找到。\n",
    "\n",
    "if (!cur->left && !cur->right && count == 0) return true; // 遇到叶子节点，并且计数为0\n",
    "if (!cur->left && !cur->right) return false; // 遇到叶子节点而没有找到合适的边，直接返回\n",
    "\n",
    "3、确定单层递归的逻辑\n",
    "因为终止条件是判断叶子节点，所以递归的过程中就不要让空节点进入递归了。\n",
    "递归函数是有返回值的，如果递归函数返回true，说明找到了合适的路径，应该立刻返回。\n",
    "if (cur->left) { // 左\n",
    "    count -= cur->left->val; // 递归，处理节点;\n",
    "    if (traversal(cur->left, count)) return true;\n",
    "    count += cur->left->val; // 回溯，撤销处理结果\n",
    "}\n",
    "if (cur->right) { // 右\n",
    "    count -= cur->right->val;\n",
    "    if (traversal(cur->right, count)) return true;\n",
    "    count += cur->right->val;\n",
    "}\n",
    "return false;\n",
    "\n",
    "整体代码：\n",
    "class Solution {\n",
    "private:\n",
    "    bool traversal(TreeNode* cur, int count) {\n",
    "        if (!cur->left && !cur->right && count == 0) return true; // 遇到叶子节点，并且计数为0\n",
    "        if (!cur->left && !cur->right) return false; // 遇到叶子节点直接返回\n",
    "\n",
    "        if (cur->left) { // 左\n",
    "            count -= cur->left->val; // 递归，处理节点;\n",
    "            if (traversal(cur->left, count)) return true;\n",
    "            count += cur->left->val; // 回溯，撤销处理结果\n",
    "        }\n",
    "        if (cur->right) { // 右\n",
    "            count -= cur->right->val; // 递归，处理节点;\n",
    "            if (traversal(cur->right, count)) return true;\n",
    "            count += cur->right->val; // 回溯，撤销处理结果\n",
    "        }\n",
    "        return false;\n",
    "    }\n",
    "\n",
    "public:\n",
    "    bool hasPathSum(TreeNode* root, int sum) {\n",
    "        if (root == NULL) return false;\n",
    "        return traversal(root, sum - root->val);\n",
    "    }\n",
    "};"
   ]
  },
  {
   "cell_type": "code",
   "execution_count": 7,
   "metadata": {},
   "outputs": [],
   "source": [
    "# python递归模板\n",
    "from typing import List\n",
    "class TreeNode:\n",
    "    def __init__(self, val=0, left=None, right=None):\n",
    "        self.val = val\n",
    "        self.left = left\n",
    "        self.right = right\n",
    "# 前序遍历-递归-LC144_二叉树的前序遍历\n",
    "class Solution:\n",
    "    def preorderTraversal(self, root: TreeNode) -> List[int]:\n",
    "        # 保存结果\n",
    "        result = []\n",
    "        \n",
    "        def traversal(root: TreeNode):\n",
    "            if root == None:\n",
    "                return\n",
    "            result.append(root.val) # 前序\n",
    "            traversal(root.left)    # 左\n",
    "            traversal(root.right)   # 右\n",
    "\n",
    "        traversal(root)\n",
    "        return result\n",
    "\n",
    "    # 中序遍历-递归-LC94_二叉树的中序遍历\n",
    "\n",
    "    def inorderTraversal(self, root: TreeNode) -> List[int]:\n",
    "        result = []\n",
    "\n",
    "        def traversal(root: TreeNode):\n",
    "            if root == None:\n",
    "                return\n",
    "            traversal(root.left)    # 左\n",
    "            result.append(root.val) # 中序\n",
    "            traversal(root.right)   # 右\n",
    "\n",
    "        traversal(root)\n",
    "        return result\n",
    "\n",
    "    # 后序遍历-递归-LC145_二叉树的后序遍历\n",
    "\n",
    "    def postorderTraversal(self, root: TreeNode) -> List[int]:\n",
    "        result = []\n",
    "\n",
    "        def traversal(root: TreeNode):\n",
    "            if root == None:\n",
    "                return\n",
    "            traversal(root.left)    # 左\n",
    "            traversal(root.right)   # 右\n",
    "            result.append(root.val) # 后序\n",
    "\n",
    "        traversal(root)\n",
    "        return result"
   ]
  },
  {
   "cell_type": "code",
   "execution_count": 1,
   "metadata": {},
   "outputs": [
    {
     "name": "stdout",
     "output_type": "stream",
     "text": [
      "tree0: \n",
      "       _____8\n",
      "      /      \\\n",
      "     1        4___\n",
      "    / \\           \\\n",
      "  _5   11         _6\n",
      " /       \\       /  \\\n",
      "13        9     14   12\n",
      "\n"
     ]
    }
   ],
   "source": [
    "# 添加测试，这里用binarytree来生成二叉树\n",
    "from binarytree import tree\n",
    "tree0 = tree()\n",
    "print('tree0:', tree0)\n"
   ]
  },
  {
   "cell_type": "code",
   "execution_count": 8,
   "metadata": {},
   "outputs": [
    {
     "data": {
      "text/plain": [
       "[8, 1, 5, 13, 11, 9, 4, 6, 14, 12]"
      ]
     },
     "execution_count": 8,
     "metadata": {},
     "output_type": "execute_result"
    }
   ],
   "source": [
    "# 前序遍历-递归\n",
    "s = Solution()\n",
    "s.preorderTraversal(tree0)\n"
   ]
  },
  {
   "cell_type": "code",
   "execution_count": 9,
   "metadata": {},
   "outputs": [
    {
     "data": {
      "text/plain": [
       "[13, 5, 1, 11, 9, 8, 4, 14, 6, 12]"
      ]
     },
     "execution_count": 9,
     "metadata": {},
     "output_type": "execute_result"
    }
   ],
   "source": [
    "# 中序遍历-递归\n",
    "s.inorderTraversal(tree0)"
   ]
  },
  {
   "cell_type": "code",
   "execution_count": 10,
   "metadata": {},
   "outputs": [
    {
     "data": {
      "text/plain": [
       "[13, 5, 9, 11, 1, 14, 12, 6, 4, 8]"
      ]
     },
     "execution_count": 10,
     "metadata": {},
     "output_type": "execute_result"
    }
   ],
   "source": [
    "# 后序遍历-递归\n",
    "s.postorderTraversal(tree0)"
   ]
  },
  {
   "cell_type": "code",
   "execution_count": null,
   "metadata": {},
   "outputs": [],
   "source": [
    "# from typing import List\n",
    "class TreeNode:\n",
    "    def __init__(self, val=0, left=None, right=None):\n",
    "        self.val = val\n",
    "        self.left = left\n",
    "        self.right = right\n",
    "class solution:\n",
    "    def haspathsum(self, root: TreeNode, targetsum: int) -> bool:\n",
    "        def isornot(root, targetsum) -> bool:\n",
    "            if (not root.left) and (not root.right) and targetsum == 0:\n",
    "                return True  # 遇到叶子节点，并且计数为0\n",
    "            if (not root.left) and (not root.right):\n",
    "                return False  # 遇到叶子节点，计数不为0\n",
    "            if root.left:\n",
    "                targetsum -= root.left.val  # 左节点\n",
    "                if isornot(root.left, targetsum): return True  # 递归，处理左节点\n",
    "                targetsum += root.left.val  # 回溯\n",
    "            if root.right:\n",
    "                targetsum -= root.right.val  # 右节点\n",
    "                if isornot(root.right, targetsum): return True  # 递归，处理右节点\n",
    "                targetsum += root.right.val  # 回溯\n",
    "            return False\n",
    "\n",
    "        if root == None:\n",
    "            return False  # 别忘记处理空treenode\n",
    "        else:\n",
    "            # 此处我们默认传的参数为targetsum - root.val，所以在第一个if直接可以判断targetsum是否为0，\n",
    "            # 即根节点的值是否和targetsum相等\n",
    "            #\n",
    "            return isornot(root, targetsum - root.val)"
   ]
  },
  {
   "cell_type": "code",
   "execution_count": 12,
   "metadata": {},
   "outputs": [],
   "source": [
    "# for detail\n",
    "class Solution:\n",
    "    def hasPathSum(self, root, targetSum) -> bool:\n",
    "        if not root:\n",
    "            return False\n",
    "        def bt(root,targetSum):\n",
    "            if (not root.left) and (not root.right) and targetSum == 0:\n",
    "                return True\n",
    "            if (not root.left) and (not root.right) and targetSum != 0:\n",
    "                return False\n",
    "            \n",
    "            if root.left:\n",
    "                targetSum -= root.left.val\n",
    "                if bt(root.left,targetSum):\n",
    "                    return True\n",
    "                else:\n",
    "                    targetSum += root.left.val\n",
    "            if root.right:\n",
    "                targetSum -= root.right.val\n",
    "                if bt(root.right,targetSum):\n",
    "                    return True\n",
    "                else:\n",
    "                    targetSum += root.right.val\n",
    "            return False\n",
    "        \n",
    "        return bt(root,targetSum-root.val)"
   ]
  },
  {
   "cell_type": "code",
   "execution_count": 13,
   "metadata": {},
   "outputs": [
    {
     "data": {
      "text/plain": [
       "False"
      ]
     },
     "execution_count": 13,
     "metadata": {},
     "output_type": "execute_result"
    }
   ],
   "source": [
    "s = Solution()\n",
    "s.hasPathSum(tree0, 100)"
   ]
  },
  {
   "cell_type": "markdown",
   "metadata": {},
   "source": [
    "二、迭代\n",
    "如果使用栈模拟递归的话，那么如果做回溯呢？\n",
    "\n",
    "此时栈里一个元素不仅要记录该节点指针，还要记录从头结点到该节点的路径数值总和。\n",
    "\n",
    "c++就我们用pair结构来存放这个栈里的元素。\n",
    "\n",
    "定义为：pair<TreeNode*, int> pair<节点指针，路径数值>\n",
    "\n",
    "这个为栈里的一个元素。\n",
    "\n",
    "如下代码是使用栈模拟的前序遍历，如下：（详细注释）\n",
    "class solution {\n",
    "\n",
    "public:\n",
    "    bool haspathsum(TreeNode* root, int sum) {\n",
    "        if (root == null) return false;\n",
    "        // 此时栈里要放的是pair<节点指针，路径数值>\n",
    "        stack<pair<TreeNode*, int>> st;\n",
    "        st.push(pair<TreeNode*, int>(root, root->val));\n",
    "        while (!st.empty()) {\n",
    "            pair<TreeNode*, int> node = st.top();\n",
    "            st.pop();\n",
    "            // 如果该节点是叶子节点了，同时该节点的路径数值等于sum，那么就返回true\n",
    "            if (!node.first->left && !node.first->right && sum == node.second) return true;\n",
    "\n",
    "            // 右节点，压进去一个节点的时候，将该节点的路径数值也记录下来\n",
    "            if (node.first->right) {\n",
    "                st.push(pair<TreeNode*, int>(node.first->right, node.second + node.first->right->val));\n",
    "            }\n",
    "\n",
    "            // 左节点，压进去一个节点的时候，将该节点的路径数值也记录下来\n",
    "            if (node.first->left) {\n",
    "                st.push(pair<TreeNode*, int>(node.first->left, node.second + node.first->left->val));\n",
    "            }\n",
    "        }\n",
    "        return false;\n",
    "    }\n",
    "};\n"
   ]
  },
  {
   "cell_type": "code",
   "execution_count": null,
   "metadata": {},
   "outputs": [],
   "source": [
    "# 此处用的是[]\n",
    "# 另外，用deque及popleft会降低空间复杂度\n",
    "# 前序遍历-迭代-LC144_二叉树的前序遍历\n",
    "class Solution:\n",
    "    def preorderTraversal(self, root: TreeNode) -> List[int]:\n",
    "        # 根结点为空则返回空列表\n",
    "        if not root:\n",
    "            return []\n",
    "        stack = [root]\n",
    "        result = []\n",
    "        while stack:\n",
    "            node = stack.pop()\n",
    "            # 中结点先处理\n",
    "            result.append(node.val)\n",
    "            # 右孩子先入栈\n",
    "            if node.right:\n",
    "                stack.append(node.right)\n",
    "            # 左孩子后入栈\n",
    "            if node.left:\n",
    "                stack.append(node.left)\n",
    "        return result\n",
    "        \n",
    "# 中序遍历-迭代-LC94_二叉树的中序遍历\n",
    "class Solution:\n",
    "    def inorderTraversal(self, root: TreeNode) -> List[int]:\n",
    "        if not root:\n",
    "            return []\n",
    "        stack = []  # 不能提前将root结点加入stack中\n",
    "        result = []\n",
    "        cur = root\n",
    "        while cur or stack:\n",
    "            # 先迭代访问最底层的左子树结点\n",
    "            if cur:     \n",
    "                stack.append(cur)\n",
    "                cur = cur.left\t\t\n",
    "            # 到达最左结点后处理栈顶结点    \n",
    "            else:\t\t\n",
    "                cur = stack.pop()\n",
    "                result.append(cur.val)\n",
    "                # 取栈顶元素右结点\n",
    "                cur = cur.right\t\n",
    "        return result\n",
    "        \n",
    "# 后序遍历-迭代-LC145_二叉树的后序遍历\n",
    "class Solution:\n",
    "    def postorderTraversal(self, root: TreeNode) -> List[int]:\n",
    "        if not root:\n",
    "            return []\n",
    "        stack = [root]\n",
    "        result = []\n",
    "        while stack:\n",
    "            node = stack.pop()\n",
    "            # 中结点先处理\n",
    "            result.append(node.val)\n",
    "            # 左孩子先入栈\n",
    "            if node.left:\n",
    "                stack.append(node.left)\n",
    "            # 右孩子后入栈\n",
    "            if node.right:\n",
    "                stack.append(node.right)\n",
    "        # 将最终的数组翻转\n",
    "        return result[::-1]"
   ]
  },
  {
   "cell_type": "code",
   "execution_count": null,
   "metadata": {},
   "outputs": [],
   "source": [
    "# 那么则有\n",
    "class solution:\n",
    "    def haspathsum(self, root:TreeNode, targetsum: int) -> bool:\n",
    "        if not root: \n",
    "            return False\n",
    "        # 此处用的累加\n",
    "        stack = []  # [(当前节点，路径数值), ...]\n",
    "        stack.append((root, root.val))\n",
    "\n",
    "        while stack: \n",
    "            cur_node, path_sum = stack.pop()\n",
    "\n",
    "            if not cur_node.left and not cur_node.right and path_sum == targetsum: \n",
    "                return True\n",
    "\n",
    "            if cur_node.right: \n",
    "                stack.append((cur_node.right, path_sum + cur_node.right.val))    \n",
    "\n",
    "            if cur_node.left: \n",
    "                stack.append((cur_node.left, path_sum + cur_node.left.val))\n",
    "\n",
    "        return False"
   ]
  },
  {
   "cell_type": "markdown",
   "metadata": {},
   "source": [
    "113. 路径总和 II\n",
    "给你二叉树的根节点 root 和一个整数目标和 targetSum ，找出所有 从根节点到叶子节点 路径总和等于给定目标和的路径。\n",
    "\n",
    "叶子节点 是指没有子节点的节点。\n",
    "\n",
    " \n",
    "\n",
    "示例 1：\n",
    "\n",
    "\n",
    "输入：root = [5,4,8,11,null,13,4,7,2,null,null,5,1], targetSum = 22\n",
    "输出：[[5,4,11,2],[5,8,4,5]]\n",
    "示例 2：\n",
    "\n",
    "\n",
    "输入：root = [1,2,3], targetSum = 5\n",
    "输出：[]\n",
    "示例 3：\n",
    "\n",
    "输入：root = [1,2], targetSum = 0\n",
    "输出：[]\n",
    " \n",
    "\n",
    "提示：\n",
    "\n",
    "树中节点总数在范围 [0, 5000] 内\n",
    "-1000 <= Node.val <= 1000\n",
    "-1000 <= targetSum <= 1000"
   ]
  },
  {
   "cell_type": "code",
   "execution_count": 14,
   "metadata": {},
   "outputs": [],
   "source": [
    "from collections import deque\n",
    "class Solution:\n",
    "    def pathSum(self, root, targetSum: int) -> List[List[int]]:\n",
    "        if not root:return []\n",
    "        if root.val == targetSum:return [[root.val]]\n",
    "        que = deque([root])\n",
    "        tmp = deque([(root.val, [root.val])])\n",
    "        res = []\n",
    "        while que:\n",
    "            for i in range(len(que)):\n",
    "                node = que.popleft()\n",
    "                # value 是当前路径累加和\n",
    "                # path 是当前路径\n",
    "                value, path = tmp.popleft()\n",
    "                if (not node.left) and (not node.right) and value == targetSum:\n",
    "                    res.append(path)\n",
    "                if node.left:\n",
    "                    que.append(node.left)\n",
    "                    tmp.append((node.left.val + value, path + [node.left.val]))\n",
    "                if node.right:\n",
    "                    que.append(node.right)\n",
    "                    tmp.append((node.right.val + value, path + [node.right.val]))\n",
    "        return res\n"
   ]
  },
  {
   "cell_type": "code",
   "execution_count": 15,
   "metadata": {},
   "outputs": [
    {
     "data": {
      "text/plain": [
       "[]"
      ]
     },
     "execution_count": 15,
     "metadata": {},
     "output_type": "execute_result"
    }
   ],
   "source": [
    "s = Solution()\n",
    "s.pathSum(tree0, 22)"
   ]
  },
  {
   "cell_type": "code",
   "execution_count": 18,
   "metadata": {},
   "outputs": [
    {
     "name": "stdout",
     "output_type": "stream",
     "text": [
      "b: [1, 23, 4, 7, 11, 3]\n",
      "a: [1, 23, 4, 7, 11, 3]\n",
      "True\n"
     ]
    }
   ],
   "source": [
    "# 看一下列表的 + 和append\n",
    "a = [1,23,4,7,11]\n",
    "# +加号是将两个list列表相加，返回一个新的列表对象，会消耗额外的内存。\n",
    "b = a + [3]\n",
    "# append()方法在列表的末尾添加新的对象，该方法无返回值，但是会修改原来的列表。\n",
    "a.append(3)\n",
    "print(\"b:\", b)\n",
    "print(\"a:\", a)\n",
    "print(a==b)\n"
   ]
  },
  {
   "cell_type": "code",
   "execution_count": 19,
   "metadata": {},
   "outputs": [
    {
     "name": "stdout",
     "output_type": "stream",
     "text": [
      "[1, 2, 3, 4, 5, 6]\n"
     ]
    }
   ],
   "source": [
    "# extend()方法用新列表扩展原来的列表，会把对象迭代添加到列表后面，\n",
    "# 只支持可迭代对象的数据。（可迭代对象： 能用for循环进行迭代的对象就是可迭代对象， \n",
    "# 比如：字符串，列表，元组，字典，集合等等）\n",
    "# 该方法没有返回值，但会在已存在的列表中添加新的列表内容。\n",
    "a = [1, 2, 3]\n",
    "b = [4, 5, 6]\n",
    "a.extend(b)\n",
    "print(a)"
   ]
  },
  {
   "cell_type": "code",
   "execution_count": 38,
   "metadata": {},
   "outputs": [],
   "source": [
    "# 在测试用例时，想起来，怎么把这个树的根到每个叶子节点的路径和求出来？\n",
    "from typing import List\n",
    "from collections import deque\n",
    "def Root_to_Leaf_Pathsum(root)->List[int]:\n",
    "    if not root:return []\n",
    "    res = []\n",
    "    deq = deque([root])\n",
    "    \n",
    "    while deq:\n",
    "        tmp = root.val\n",
    "        # tmp = 0\n",
    "        for i in range(len(deq)):\n",
    "            node = deq.popleft()\n",
    "            # tmp += node.val\n",
    "            if (not node.left) and (not node.right):\n",
    "                res.append(tmp)\n",
    "\n",
    "            if node.left:\n",
    "                tmp += node.left.val\n",
    "                deq.append(node.left)\n",
    "            if node.right:\n",
    "                tmp += node.right.val\n",
    "                deq.append(node.right)\n",
    "            # res.append(tmp)\n",
    "    return res"
   ]
  },
  {
   "cell_type": "code",
   "execution_count": 48,
   "metadata": {},
   "outputs": [],
   "source": [
    "from typing import List\n",
    "from collections import deque\n",
    "def pathSum(root):\n",
    "    if not root:return []\n",
    "    que = deque([(root, root.val)])\n",
    "    res = []\n",
    "    while que:\n",
    "        for i in range(len(que)):\n",
    "            node, value = que.popleft()\n",
    "            # value 是当前路径累加和\n",
    "            # path 是当前路径\n",
    "            if (not node.left) and (not node.right):\n",
    "                res.append(value)\n",
    "            if node.left:\n",
    "                que.append((node.left,node.left.val + value))\n",
    "            if node.right:\n",
    "                que.append((node.right,node.right.val + value))\n",
    "    return res"
   ]
  },
  {
   "cell_type": "code",
   "execution_count": 49,
   "metadata": {},
   "outputs": [
    {
     "name": "stdout",
     "output_type": "stream",
     "text": [
      "\n",
      "     ____2______\n",
      "    /           \\\n",
      "  _3           __10___\n",
      " /  \\         /       \\\n",
      "11   6       7        _12\n",
      "      \\     / \\      /\n",
      "       8   5   4    13\n",
      "\n"
     ]
    },
    {
     "data": {
      "text/plain": [
       "[16, 19, 24, 23, 37]"
      ]
     },
     "execution_count": 49,
     "metadata": {},
     "output_type": "execute_result"
    }
   ],
   "source": [
    "\n",
    "tree1 = tree()\n",
    "print(tree1)\n",
    "pathSum(tree1)"
   ]
  },
  {
   "cell_type": "markdown",
   "metadata": {},
   "source": []
  }
 ],
 "metadata": {
  "kernelspec": {
   "display_name": "Python 3.7.10 ('base')",
   "language": "python",
   "name": "python3"
  },
  "language_info": {
   "codemirror_mode": {
    "name": "ipython",
    "version": 3
   },
   "file_extension": ".py",
   "mimetype": "text/x-python",
   "name": "python",
   "nbconvert_exporter": "python",
   "pygments_lexer": "ipython3",
   "version": "3.7.10"
  },
  "orig_nbformat": 4,
  "vscode": {
   "interpreter": {
    "hash": "820d776940a02930c69820a8cec178404e4e9e60b6116e2717a21913b50566a0"
   }
  }
 },
 "nbformat": 4,
 "nbformat_minor": 2
}
