{
 "cells": [
  {
   "cell_type": "markdown",
   "metadata": {},
   "source": [
    "1. Two Sum\n",
    "Easy\n",
    "\n",
    "Given an array of integers nums and an integer target, return indices of the two numbers such that they add up to target.\n",
    "\n",
    "You may assume that each input would have exactly one solution, and you may not use the same element twice.\n",
    "\n",
    "You can return the answer in any order.\n",
    "\n",
    " \n",
    "\n",
    "Example 1:\n",
    "\n",
    "Input: nums = [2,7,11,15], target = 9\n",
    "Output: [0,1]\n",
    "Explanation: Because nums[0] + nums[1] == 9, we return [0, 1].\n",
    "\n",
    "Example 2:\n",
    "\n",
    "Input: nums = [3,2,4], target = 6\n",
    "Output: [1,2]\n",
    "\n",
    "Example 3:\n",
    "\n",
    "Input: nums = [3,3], target = 6\n",
    "Output: [0,1]\n",
    "\n",
    " \n",
    "\n",
    "Constraints:\n",
    "\n",
    "    2 <= nums.length <= 104\n",
    "    -109 <= nums[i] <= 109\n",
    "    -109 <= target <= 109\n",
    "    Only one valid answer exists.\n",
    "\n",
    " \n",
    "Follow-up: Can you come up with an algorithm that is less than O(n^2) time complexity?"
   ]
  },
  {
   "cell_type": "code",
   "execution_count": 12,
   "metadata": {},
   "outputs": [],
   "source": [
    "# It not work as expected.\n",
    "from typing import List\n",
    "class Solution_1:\n",
    "    def twoSum(self, nums: List[int], target: int) -> List[int]:\n",
    "        numdict = {}\n",
    "        for i in range(len(nums)):\n",
    "            numdict[nums[i]] = i\n",
    "        print(numdict)\n",
    "        res = []\n",
    "        for i in range(len(numdict)):\n",
    "            tmp = target - nums[i]\n",
    "            print(numdict[tmp])\n",
    "            if tmp in numdict and numdict[tmp] != i:\n",
    "                print(numdict[tmp])\n",
    "                res = [i, numdict[tmp]]\n",
    "        # for k, v in numdict.items():\n",
    "            # if (target - v) in numdict and :\n",
    "                # res = [k, nums.index(target - v)]\n",
    "        return res"
   ]
  },
  {
   "cell_type": "code",
   "execution_count": 6,
   "metadata": {},
   "outputs": [
    {
     "name": "stdout",
     "output_type": "stream",
     "text": [
      "{2: 0, 7: 1, 11: 2, 15: 3}\n"
     ]
    },
    {
     "data": {
      "text/plain": [
       "[1, 0]"
      ]
     },
     "execution_count": 6,
     "metadata": {},
     "output_type": "execute_result"
    }
   ],
   "source": [
    "s1 = Solution_1()\n",
    "target = 9\n",
    "nums = [2,7,11,15]\n",
    "s1.twoSum(nums, target)"
   ]
  },
  {
   "cell_type": "code",
   "execution_count": 13,
   "metadata": {},
   "outputs": [
    {
     "name": "stdout",
     "output_type": "stream",
     "text": [
      "{3: 1}\n",
      "1\n",
      "1\n"
     ]
    },
    {
     "data": {
      "text/plain": [
       "[0, 1]"
      ]
     },
     "execution_count": 13,
     "metadata": {},
     "output_type": "execute_result"
    }
   ],
   "source": [
    "s1 = Solution_1()\n",
    "nums = [3,3]\n",
    "target = 6\n",
    "s1.twoSum(nums, target)"
   ]
  },
  {
   "cell_type": "code",
   "execution_count": null,
   "metadata": {},
   "outputs": [],
   "source": [
    "from typing import List\n",
    "class Solution_1_1:\n",
    "    def twoSum(self, nums: List[int], target: int) -> List[int]:\n",
    "        numdict = {}\n",
    "        for i in range(len(nums)):\n",
    "            numdict[nums[i]] = i\n",
    "        print(numdict)\n",
    "        res = []\n",
    "        for i in range(len(numdict)):\n",
    "            tmp = target - nums[i]\n",
    "            print(numdict[tmp])\n",
    "            if tmp in numdict and numdict[tmp] != i:\n",
    "                print(numdict[tmp])\n",
    "                res = [i, numdict[tmp]]\n",
    "        # for k, v in numdict.items():\n",
    "            # if (target - v) in numdict and :\n",
    "                # res = [k, nums.index(target - v)]\n",
    "        return res"
   ]
  }
 ],
 "metadata": {
  "kernelspec": {
   "display_name": "Python 3.7.13 ('base')",
   "language": "python",
   "name": "python3"
  },
  "language_info": {
   "codemirror_mode": {
    "name": "ipython",
    "version": 3
   },
   "file_extension": ".py",
   "mimetype": "text/x-python",
   "name": "python",
   "nbconvert_exporter": "python",
   "pygments_lexer": "ipython3",
   "version": "3.7.13"
  },
  "orig_nbformat": 4,
  "vscode": {
   "interpreter": {
    "hash": "b349af1b1aaaa466089a61e9eed9b41212ce21d579615039c57f22cd5b13cdee"
   }
  }
 },
 "nbformat": 4,
 "nbformat_minor": 2
}
