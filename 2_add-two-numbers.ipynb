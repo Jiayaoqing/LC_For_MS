{
 "cells": [
  {
   "cell_type": "markdown",
   "metadata": {},
   "source": [
    "2. Add Two Numbers\n",
    "Medium\n",
    "\n",
    "21558\n",
    "\n",
    "4226\n",
    "\n",
    "Add to List\n",
    "\n",
    "Share\n",
    "You are given two non-empty linked lists representing two non-negative integers. The digits are stored in reverse order, and each of their nodes contains a single digit. Add the two numbers and return the sum as a linked list.\n",
    "\n",
    "You may assume the two numbers do not contain any leading zero, except the number 0 itself.\n",
    "\n",
    " \n",
    "\n",
    "Example 1:\n",
    "\n",
    "\n",
    "Input: l1 = [2,4,3], l2 = [5,6,4]\n",
    "Output: [7,0,8]\n",
    "Explanation: 342 + 465 = 807.\n",
    "Example 2:\n",
    "\n",
    "Input: l1 = [0], l2 = [0]\n",
    "Output: [0]\n",
    "Example 3:\n",
    "\n",
    "Input: l1 = [9,9,9,9,9,9,9], l2 = [9,9,9,9]\n",
    "Output: [8,9,9,9,0,0,0,1]\n",
    " \n",
    "\n",
    "Constraints:\n",
    "\n",
    "The number of nodes in each linked list is in the range [1, 100].\n",
    "0 <= Node.val <= 9\n",
    "It is guaranteed that the list represents a number that does not have leading zeros."
   ]
  },
  {
   "cell_type": "markdown",
   "metadata": {},
   "source": [
    "In my first opinion, link list can be transfered to a int number, and sum two numbers, then let int be string, string to link list."
   ]
  },
  {
   "cell_type": "code",
   "execution_count": 14,
   "metadata": {},
   "outputs": [],
   "source": [
    "# Definition for singly-linked list.\n",
    "from typing import List\n",
    "from typing import Optional\n",
    "class ListNode:\n",
    "    def __init__(self, val=0, next=None):\n",
    "        self.val = val\n",
    "        self.next = next\n",
    "\n",
    "class PrintListNode:\n",
    "    def PLN(self, head):\n",
    "        res = []\n",
    "        while head:\n",
    "            res.append(head.val)\n",
    "            head = head.next\n",
    "        print(res)\n",
    "\n",
    "\n",
    "class Solution_2:\n",
    "    def transfer(self, head):\n",
    "        res = 0\n",
    "        m = 0\n",
    "        while head:\n",
    "            res += head.val * (10**m)\n",
    "            head = head.next\n",
    "            m += 1\n",
    "        return res\n",
    "    def addTwoNumbers(self, l1: Optional[ListNode], l2: Optional[ListNode]) -> Optional[ListNode]:\n",
    "        # pass\n",
    "        res = ListNode(0)\n",
    "        val1 = self.transfer(l1)\n",
    "        val2 = self.transfer(l2)\n",
    "        lnsum = val1 + val2\n",
    "        str_res = str(lnsum)[::-1]\n",
    "        # print(str_res)\n",
    "        # print(val1)\n",
    "        # print(val2)\n",
    "        cur = res\n",
    "        for i in range(len(str_res)):\n",
    "            tmp = ListNode(int(str_res[i]))\n",
    "            cur.next = tmp\n",
    "            cur = tmp\n",
    "        return res.next"
   ]
  },
  {
   "cell_type": "code",
   "execution_count": 6,
   "metadata": {},
   "outputs": [],
   "source": [
    "head1 = ListNode(1)\n",
    "node1 = ListNode(1)\n",
    "node2 = ListNode(2)\n",
    "node3 = ListNode(3)\n",
    "node4 = ListNode(4)\n",
    "head1.next = node1\n",
    "node1.next = node2\n",
    "node2.next = node3\n",
    "node3.next = node4\n",
    "\n",
    "head2 = ListNode(1)\n",
    "node5 = ListNode(5)\n",
    "node6 = ListNode(6)\n",
    "node7 = ListNode(7)\n",
    "head2.next = node5\n",
    "node5.next = node6\n",
    "node6.next = node7\n"
   ]
  },
  {
   "cell_type": "code",
   "execution_count": 8,
   "metadata": {},
   "outputs": [
    {
     "name": "stdout",
     "output_type": "stream",
     "text": [
      "[1, 1, 2, 3, 4]\n",
      "[1, 5, 6, 7]\n"
     ]
    }
   ],
   "source": [
    "pln = PrintListNode()\n",
    "pln.PLN(head1)\n",
    "pln.PLN(head2)"
   ]
  },
  {
   "cell_type": "code",
   "execution_count": 15,
   "metadata": {},
   "outputs": [
    {
     "name": "stdout",
     "output_type": "stream",
     "text": [
      "[2, 6, 8, 0, 5]\n"
     ]
    }
   ],
   "source": [
    "s2 = Solution_2()\n",
    "pln.PLN(s2.addTwoNumbers(head1, head2))\n",
    "# s2.addTwoNumbers(head1, head2)"
   ]
  },
  {
   "cell_type": "markdown",
   "metadata": {},
   "source": [
    "Also, if we don't use list, only use link list:\n",
    "if l1.val + l2.val >= 10:\n",
    "it should //10.\n",
    "And we can use a 'carry' to mark this value.\n",
    "new value will be l1.val + l2.val + carry,\n",
    "then new carry will be newvalue // 10 and so on.\n",
    "final value will be newvalue % 10 and add to listnode.\n",
    "Here are codes:"
   ]
  },
  {
   "cell_type": "code",
   "execution_count": 16,
   "metadata": {},
   "outputs": [],
   "source": [
    "class Solution_2_2:\n",
    "    def addTwoNumbers(self, l1: Optional[ListNode], l2: Optional[ListNode]) -> Optional[ListNode]:\n",
    "        # pass\n",
    "        res = ListNode(0)\n",
    "        cur = res\n",
    "        carry = 0\n",
    "        while l1 or l2 or carry != 0:\n",
    "            if l1:\n",
    "                val1 = l1.val\n",
    "            else:\n",
    "                val1 = 0\n",
    "            if l2:\n",
    "                val2 = l2.val\n",
    "            else:\n",
    "                val2 = 0\n",
    "            new_number = val1 + val2 + carry\n",
    "            carry = new_number // 10\n",
    "            final_number = new_number % 10\n",
    "            tmp = ListNode(final_number)\n",
    "            cur.next = tmp\n",
    "            cur = tmp\n",
    "            if l1:\n",
    "                l1 = l1.next\n",
    "            else:\n",
    "                l1 = None\n",
    "            \n",
    "            if l2:\n",
    "                l2 = l2.next\n",
    "            else:\n",
    "                l2 = None\n",
    "            # also, it can be below\n",
    "            # val1 = l1.val if l1 else 0\n",
    "            # val2 = l2.val if l2 else 0\n",
    "            # l1 = l1.next if l1 else None\n",
    "            # l2 = l2.next if l2 else None\n",
    "\n",
    "        return res.next\n",
    "\n",
    "            \n",
    "            "
   ]
  },
  {
   "cell_type": "code",
   "execution_count": 17,
   "metadata": {},
   "outputs": [
    {
     "name": "stdout",
     "output_type": "stream",
     "text": [
      "[2, 6, 8, 0, 5]\n"
     ]
    }
   ],
   "source": [
    "s2 = Solution_2_2()\n",
    "pln.PLN(s2.addTwoNumbers(head1, head2))"
   ]
  }
 ],
 "metadata": {
  "kernelspec": {
   "display_name": "Python 3.7.10 ('base')",
   "language": "python",
   "name": "python3"
  },
  "language_info": {
   "codemirror_mode": {
    "name": "ipython",
    "version": 3
   },
   "file_extension": ".py",
   "mimetype": "text/x-python",
   "name": "python",
   "nbconvert_exporter": "python",
   "pygments_lexer": "ipython3",
   "version": "3.7.10"
  },
  "orig_nbformat": 4,
  "vscode": {
   "interpreter": {
    "hash": "820d776940a02930c69820a8cec178404e4e9e60b6116e2717a21913b50566a0"
   }
  }
 },
 "nbformat": 4,
 "nbformat_minor": 2
}
